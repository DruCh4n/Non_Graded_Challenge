{
 "cells": [
  {
   "cell_type": "markdown",
   "metadata": {},
   "source": [
    "# NGC 2"
   ]
  },
  {
   "cell_type": "markdown",
   "metadata": {},
   "source": [
    "## Task 1"
   ]
  },
  {
   "cell_type": "code",
   "execution_count": 9,
   "metadata": {},
   "outputs": [],
   "source": [
    "def number_of_word(sentence):\n",
    "    word = sentence.split()\n",
    "    return len(word)\n",
    "\n"
   ]
  },
  {
   "cell_type": "code",
   "execution_count": 10,
   "metadata": {},
   "outputs": [
    {
     "name": "stdout",
     "output_type": "stream",
     "text": [
      "2\n"
     ]
    }
   ],
   "source": [
    "print(number_of_word(sentence=\"Hello World!\"))"
   ]
  },
  {
   "cell_type": "markdown",
   "metadata": {},
   "source": [
    "## Task 2"
   ]
  },
  {
   "cell_type": "code",
   "execution_count": 3,
   "metadata": {},
   "outputs": [],
   "source": [
    "def find_multiples(start, end, multiple):\n",
    " return [no for no in range(start, end + 1) if no % multiple == 0]"
   ]
  },
  {
   "cell_type": "code",
   "execution_count": 11,
   "metadata": {},
   "outputs": [
    {
     "name": "stdout",
     "output_type": "stream",
     "text": [
      "[5, 10, 15, 20, 25, 30, 35, 40, 45, 50]\n"
     ]
    }
   ],
   "source": [
    "print(find_multiples(1, 50, 5))"
   ]
  },
  {
   "cell_type": "markdown",
   "metadata": {},
   "source": [
    "## Task 3"
   ]
  },
  {
   "cell_type": "code",
   "execution_count": 5,
   "metadata": {},
   "outputs": [],
   "source": [
    "def Grade_Converter(convert_to, **kwargs):\n",
    "\n",
    "    def nilai(hasil):\n",
    "        if hasil >= 85:\n",
    "            return \"A\"\n",
    "        elif hasil >= 70:\n",
    "            return \"B\"\n",
    "        elif hasil >= 60:\n",
    "            return \"C\"\n",
    "        elif hasil >= 50:\n",
    "            return \"D\"\n",
    "        elif hasil >= 40:\n",
    "            return \"E\"\n",
    "        else:\n",
    "            return \"F\"\n",
    "\n",
    "   \n",
    "    def ipk(hasil):\n",
    "        if hasil >= 85:\n",
    "            return 4.0\n",
    "        elif hasil >= 70:\n",
    "            return 3.0\n",
    "        elif hasil >= 60:\n",
    "            return 2.5\n",
    "        elif hasil >= 50:\n",
    "            return 2.0\n",
    "        elif hasil >= 40:\n",
    "            return 1.5\n",
    "        else:\n",
    "            return 1.0\n",
    "\n",
    "    \n",
    "    result = {}\n",
    "\n",
    "    \n",
    "    for student, hasil in kwargs.items():\n",
    "        if convert_to == 'letter_grade':\n",
    "            result[student] = nilai(hasil)\n",
    "        elif convert_to == 'gpa':\n",
    "            result[student] = ipk(hasil)\n",
    "\n",
    "   \n",
    "    return result\n"
   ]
  },
  {
   "cell_type": "code",
   "execution_count": 6,
   "metadata": {},
   "outputs": [
    {
     "name": "stdout",
     "output_type": "stream",
     "text": [
      "{'Adam': 2.5, 'Faiz': 4.0}\n",
      "{'Albert': 'A', 'Dwi': 'B', 'Syahdan': 'D', 'Veronica': 'B'}\n"
     ]
    }
   ],
   "source": [
    "ipk_akhir = Grade_Converter('gpa', Adam=62, Faiz=91)\n",
    "print(ipk_akhir)  \n",
    "\n",
    "Nilai_akhir = Grade_Converter('letter_grade', Albert=90, Dwi=82, Syahdan=58, Veronica=84)\n",
    "print(Nilai_akhir)  \n",
    "\n"
   ]
  },
  {
   "cell_type": "markdown",
   "metadata": {},
   "source": [
    "## Task 4"
   ]
  },
  {
   "cell_type": "code",
   "execution_count": 7,
   "metadata": {},
   "outputs": [],
   "source": [
    "def my_function(n):\n",
    "    if n == 0:\n",
    "        return 0\n",
    "    elif n == 1:\n",
    "        return 1\n",
    "    \n",
    "    a, b = 0, 1\n",
    "    \n",
    "    for _ in range(2, n + 1):\n",
    "        a, b = b, a + b\n",
    "    \n",
    "    return b\n",
    "\n",
    "\n"
   ]
  },
  {
   "cell_type": "code",
   "execution_count": 8,
   "metadata": {},
   "outputs": [
    {
     "name": "stdout",
     "output_type": "stream",
     "text": [
      "0\n",
      "3\n",
      "55\n"
     ]
    }
   ],
   "source": [
    "print(my_function(n=0))  \n",
    "#print(my_function(n=1)) \n",
    "#print(my_function(n=2))  \n",
    "#print(my_function(n=3))  \n",
    "print(my_function(n=4))\n",
    "#print(my_function(n=5)) \n",
    "#print(my_function(n=6))  \n",
    "#print(my_function(n=7)) \n",
    "#print(my_function(n=8))  \n",
    "#print(my_function(n=9))  \n",
    "print(my_function(n=10)) "
   ]
  }
 ],
 "metadata": {
  "kernelspec": {
   "display_name": "Python 3",
   "language": "python",
   "name": "python3"
  },
  "language_info": {
   "codemirror_mode": {
    "name": "ipython",
    "version": 3
   },
   "file_extension": ".py",
   "mimetype": "text/x-python",
   "name": "python",
   "nbconvert_exporter": "python",
   "pygments_lexer": "ipython3",
   "version": "3.10.5"
  }
 },
 "nbformat": 4,
 "nbformat_minor": 2
}
