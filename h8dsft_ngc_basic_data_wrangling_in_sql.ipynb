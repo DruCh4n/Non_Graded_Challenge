{
 "cells": [
  {
   "cell_type": "markdown",
   "metadata": {},
   "source": [
    "# NGC 5"
   ]
  },
  {
   "cell_type": "code",
   "execution_count": null,
   "metadata": {
    "vscode": {
     "languageId": "plaintext"
    }
   },
   "outputs": [],
   "source": [
    "CREATE TABLE customers (\n",
    "\tcustomer_id SERIAL PRIMARY KEY,\n",
    "    customer_name VARCHAR,\n",
    "    city VARCHAR);\n",
    "\n",
    "CREATE TABLE orders (\n",
    "    order_id SERIAL PRIMARY KEY,\n",
    "    customer_id INTEGER REFERENCES customers(customer_id),\n",
    "    order_date DATE,\n",
    "\ttotal_amount FLOAT);"
   ]
  },
  {
   "cell_type": "code",
   "execution_count": null,
   "metadata": {
    "vscode": {
     "languageId": "plaintext"
    }
   },
   "outputs": [],
   "source": [
    "INSERT INTO customers (customer_id, customer_name, city)\n",
    "VALUES\n",
    "\t(1, 'John Doe', 'New York'),\n",
    "    (2, 'Jane Smith', 'Los Angeles'),\n",
    "    (3, 'David Johnson', 'Chicago');\n",
    "\n",
    "INSERT INTO orders (order_id, customer_id, order_date, total_amount)\n",
    "VALUES\n",
    "\t(1,1, '2022-01-10',100.00),\n",
    "\t(2,1, '2022-02-15', 150.00),\n",
    "\t(3,2, '2022-03-20', 200.00),\n",
    "\t(4,3, '2022-04-25', 50.00);"
   ]
  },
  {
   "cell_type": "code",
   "execution_count": null,
   "metadata": {
    "vscode": {
     "languageId": "plaintext"
    }
   },
   "outputs": [],
   "source": [
    "SELECT customers.customer_name, COUNT(orders.order_id) AS total_orders\n",
    "\tFROM customers\n",
    "\tINNER JOIN orders ON customers.customer_id = orders.customer_id\n",
    "\tGROUP BY customers.customer_name;"
   ]
  }
 ],
 "metadata": {
  "language_info": {
   "name": "python"
  }
 },
 "nbformat": 4,
 "nbformat_minor": 2
}
